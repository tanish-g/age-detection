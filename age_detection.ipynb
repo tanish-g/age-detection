{
  "nbformat": 4,
  "nbformat_minor": 0,
  "metadata": {
    "kernelspec": {
      "language": "python",
      "display_name": "Python 3",
      "name": "python3"
    },
    "language_info": {
      "pygments_lexer": "ipython3",
      "nbconvert_exporter": "python",
      "version": "3.6.4",
      "file_extension": ".py",
      "codemirror_mode": {
        "name": "ipython",
        "version": 3
      },
      "name": "python",
      "mimetype": "text/x-python"
    },
    "colab": {
      "name": "age_detection.ipynb",
      "provenance": [],
      "include_colab_link": true
    },
    "accelerator": "GPU"
  },
  "cells": [
    {
      "cell_type": "markdown",
      "metadata": {
        "id": "view-in-github",
        "colab_type": "text"
      },
      "source": [
        "<a href=\"https://colab.research.google.com/github/tanish-g/age-detection/blob/master/age_detection.ipynb\" target=\"_parent\"><img src=\"https://colab.research.google.com/assets/colab-badge.svg\" alt=\"Open In Colab\"/></a>"
      ]
    },
    {
      "cell_type": "code",
      "metadata": {
        "id": "ewVYWVwdsC65",
        "colab_type": "code",
        "colab": {}
      },
      "source": [
        "!nvidia-smi"
      ],
      "execution_count": null,
      "outputs": []
    },
    {
      "cell_type": "code",
      "metadata": {
        "trusted": true,
        "id": "YqXt50PqJpqN",
        "colab_type": "code",
        "colab": {}
      },
      "source": [
        "url_test = 'https://datahack-prod.s3.amazonaws.com/test_zip/test_Bh8pGW3.zip'\n",
        "url_train  ='https://datahack-prod.s3.amazonaws.com/train_zip/train_DETg9GD.zip'\n",
        "url_sample='https://datahack.analyticsvidhya.com/contest/practice-problem-age-detection/download/sample-submission'"
      ],
      "execution_count": null,
      "outputs": []
    },
    {
      "cell_type": "code",
      "metadata": {
        "id": "QuKZGS5AtIPe",
        "colab_type": "code",
        "colab": {}
      },
      "source": [
        "url_sample='https://datahack-prod.s3.amazonaws.com/sample_submission/sample_submission_sDO3m7O.csv'\n",
        "urllib.request.urlretrieve(url_sample,'sample_submission.csv')"
      ],
      "execution_count": null,
      "outputs": []
    },
    {
      "cell_type": "code",
      "metadata": {
        "trusted": true,
        "id": "2DPsfoJKJpqT",
        "colab_type": "code",
        "colab": {}
      },
      "source": [
        "import urllib.request\n",
        "urllib.request.urlretrieve(url_train, 'train.zip')\n",
        "urllib.request.urlretrieve(url_test, 'test.zip')\n",
        "urllib.request.urlretrieve(url_sample,'sample_submission.csv')"
      ],
      "execution_count": null,
      "outputs": []
    },
    {
      "cell_type": "code",
      "metadata": {
        "trusted": true,
        "id": "uk4XdAtJJpqh",
        "colab_type": "code",
        "colab": {}
      },
      "source": [
        "!unzip -q train.zip\n",
        "!unzip -q test.zip\n",
        "!rm train.zip test.zip"
      ],
      "execution_count": null,
      "outputs": []
    },
    {
      "cell_type": "code",
      "metadata": {
        "trusted": true,
        "id": "VlfOSbRnJpqt",
        "colab_type": "code",
        "colab": {}
      },
      "source": [
        "import os\n",
        "import cv2\n",
        "from PIL import Image\n",
        "import time\n",
        "import copy\n",
        "import warnings\n",
        "import random\n",
        "import numpy as np\n",
        "import pandas as pd\n",
        "from tqdm import tqdm_notebook as tqdm\n",
        "from torch.optim.lr_scheduler import ReduceLROnPlateau\n",
        "from sklearn.model_selection import train_test_split\n",
        "import torch\n",
        "import torch.nn as nn\n",
        "from torch.nn import functional as F\n",
        "import torchvision\n",
        "import torch.optim as optim\n",
        "import torch.backends.cudnn as cudnn\n",
        "from torch.utils.data import DataLoader, Dataset, sampler\n",
        "from matplotlib import pyplot as plt\n",
        "import torchvision.transforms as transforms\n",
        "from albumentations import (HorizontalFlip,VerticalFlip, ShiftScaleRotate, Normalize, Resize, Compose, GaussNoise,RandomRotate90,Transpose,RandomBrightnessContrast,RandomCrop)\n",
        "from albumentations.pytorch import ToTensor\n",
        "import albumentations as albu\n",
        "import matplotlib.image as mpi\n",
        "from sklearn.metrics import f1_score\n",
        "warnings.filterwarnings(\"ignore\")\n",
        "seed = 69\n",
        "random.seed(seed)\n",
        "os.environ[\"PYTHONHASHSEED\"] = str(seed)\n",
        "np.random.seed(seed)\n",
        "torch.cuda.manual_seed(seed)\n",
        "torch.backends.cudnn.deterministic = True"
      ],
      "execution_count": null,
      "outputs": []
    },
    {
      "cell_type": "code",
      "metadata": {
        "trusted": true,
        "id": "e4tJ8CQQJpqv",
        "colab_type": "code",
        "colab": {}
      },
      "source": [
        "df5 = pd.read_csv('sample_submission.csv')"
      ],
      "execution_count": null,
      "outputs": []
    },
    {
      "cell_type": "code",
      "metadata": {
        "trusted": true,
        "id": "GGRPxMYJJpq0",
        "colab_type": "code",
        "colab": {}
      },
      "source": [
        "df5.keys()"
      ],
      "execution_count": null,
      "outputs": []
    },
    {
      "cell_type": "code",
      "metadata": {
        "trusted": true,
        "id": "qCOsVhWjJpq3",
        "colab_type": "code",
        "colab": {}
      },
      "source": [
        "df = pd.read_csv(\"train.csv\")\n",
        "df.keys()"
      ],
      "execution_count": null,
      "outputs": []
    },
    {
      "cell_type": "code",
      "metadata": {
        "trusted": true,
        "id": "o_uFXHrQJpq5",
        "colab_type": "code",
        "colab": {}
      },
      "source": [
        "df1 = df['Class']\n",
        "df2 = df[\"ID\"]\n",
        "df1 = pd.get_dummies(df1)\n",
        "df = pd.concat([df2,df1], axis=1)\n",
        "df.head()"
      ],
      "execution_count": null,
      "outputs": []
    },
    {
      "cell_type": "code",
      "metadata": {
        "trusted": true,
        "id": "tK1gnu9VJpq8",
        "colab_type": "code",
        "colab": {}
      },
      "source": [
        "df_train,df_val = train_test_split(df,test_size=0.2,random_state=42)"
      ],
      "execution_count": null,
      "outputs": []
    },
    {
      "cell_type": "code",
      "metadata": {
        "trusted": true,
        "id": "7Hw1h9TpJpq-",
        "colab_type": "code",
        "colab": {}
      },
      "source": [
        "class Agedetection(Dataset):\n",
        "\n",
        "  def __init__(self,df,root,phase):\n",
        "    self.df = df\n",
        "    self.length = df.shape[0]\n",
        "    self.root = root\n",
        "    if phase==\"train\":\n",
        "        self.transforms = albu.Compose([\n",
        "            albu.Resize(256,256),\n",
        "            ##albu.RandomCrop(256,256),\n",
        "            albu.HorizontalFlip(p=0.5),\n",
        "            albu.RandomBrightness(),\n",
        "            ##albu.VerticalFlip(p=0.5),\n",
        "            albu.RandomBrightnessContrast(),\n",
        "            albu.HueSaturationValue(-1,1),\n",
        "            albu.RandomBrightness(),\n",
        "            ##albu.CenterCrop(128,128),\n",
        "            ##albu.Cutout(),\n",
        "            albu.RGBShift(),\n",
        "            albu.Rotate(limit=(-45,45)),\n",
        "            albu.Normalize((0.485, 0.456, 0.406),(0.229, 0.224, 0.225)),\n",
        "        ])\n",
        "    elif phase==\"val\":\n",
        "        self.transforms = albu.Compose([\n",
        "            albu.Resize(256,256),\n",
        "            albu.Normalize((0.485, 0.456, 0.406),(0.229, 0.224, 0.225)),\n",
        "        ])\n",
        "\n",
        "  def __getitem__(self,index):\n",
        "    label = self.df.iloc[index,1:]\n",
        "    label = label.to_numpy()\n",
        "    image_id = self.df.iloc[index,0]\n",
        "    path = os.path.join(self.root,str(image_id))\n",
        "    img = plt.imread(path)\n",
        "    img = self.transforms(image=np.array(img))\n",
        "    img = img['image']\n",
        "    img = np.transpose(img,(2,0,1)).astype(np.float32)\n",
        "    img = torch.tensor(img, dtype = torch.float)\n",
        "    label = np.argmax(label)\n",
        "    return img,label\n",
        "  \n",
        "  def __len__(self):\n",
        "    return self.length \n",
        "  \n",
        " "
      ],
      "execution_count": null,
      "outputs": []
    },
    {
      "cell_type": "code",
      "metadata": {
        "trusted": true,
        "id": "UUCpku8MJprA",
        "colab_type": "code",
        "colab": {}
      },
      "source": [
        "traindata = Agedetection(df_train,root = \"Train\", phase=\"train\")\n",
        "valdata = Agedetection(df_val,root = \"Train\", phase=\"val\")\n",
        "trainloader = DataLoader(traindata,batch_size = 48,num_workers=4)\n",
        "valloader = DataLoader(valdata,batch_size = 48,num_workers=4)"
      ],
      "execution_count": null,
      "outputs": []
    },
    {
      "cell_type": "code",
      "metadata": {
        "trusted": true,
        "id": "y05bJvyQJprC",
        "colab_type": "code",
        "colab": {}
      },
      "source": [
        "dataiter = iter(trainloader)\n",
        "image,label = dataiter.next()"
      ],
      "execution_count": null,
      "outputs": []
    },
    {
      "cell_type": "code",
      "metadata": {
        "trusted": true,
        "id": "j4aCAQKxJprF",
        "colab_type": "code",
        "colab": {}
      },
      "source": [
        "device = torch.device(\"cuda\" if torch.cuda.is_available() else \"cpu\")\n",
        "device"
      ],
      "execution_count": null,
      "outputs": []
    },
    {
      "cell_type": "code",
      "metadata": {
        "trusted": true,
        "id": "2u8vDpe8JprH",
        "colab_type": "code",
        "colab": {}
      },
      "source": [
        "def show_img(img):\n",
        "    plt.figure(figsize=(18,15))\n",
        "    img = img / 2 + 0.5  \n",
        "    npimg = img.numpy()\n",
        "    npimg = np.clip(npimg, 0., 1.)\n",
        "    plt.imshow(np.transpose(npimg, (1, 2, 0)))\n",
        "    plt.show()\n",
        "\n",
        "show_img(torchvision.utils.make_grid(image))"
      ],
      "execution_count": null,
      "outputs": []
    },
    {
      "cell_type": "code",
      "metadata": {
        "trusted": true,
        "id": "5GsK-d97JprJ",
        "colab_type": "code",
        "colab": {}
      },
      "source": [
        "print(image.shape)"
      ],
      "execution_count": null,
      "outputs": []
    },
    {
      "cell_type": "code",
      "metadata": {
        "id": "yoP6YUBDrxN4",
        "colab_type": "code",
        "colab": {}
      },
      "source": [
        "!pip install timm\n",
        "import timm"
      ],
      "execution_count": null,
      "outputs": []
    },
    {
      "cell_type": "code",
      "metadata": {
        "trusted": true,
        "id": "pLnmlxPnJprL",
        "colab_type": "code",
        "colab": {}
      },
      "source": [
        "from torchvision import models\n",
        "resnet = timm.models.efficientnet_b3(pretrained=True,num_classes=3).to(device)"
      ],
      "execution_count": null,
      "outputs": []
    },
    {
      "cell_type": "code",
      "metadata": {
        "trusted": true,
        "id": "PTuUlvSBJprN",
        "colab_type": "code",
        "colab": {}
      },
      "source": [
        "#if for freezing param.requires_grad=True\n",
        "for param in resnet.parameters():\n",
        "    param.requires_grad=False\n",
        "fc_inputs = resnet.fc.in_features\n",
        "resnet.fc = nn.Linear(fc_inputs,3)"
      ],
      "execution_count": null,
      "outputs": []
    },
    {
      "cell_type": "code",
      "metadata": {
        "id": "UqmbIrrtt3QX",
        "colab_type": "code",
        "colab": {}
      },
      "source": [
        "!pip install pytorch_ranger\n",
        "from pytorch_ranger import Ranger"
      ],
      "execution_count": null,
      "outputs": []
    },
    {
      "cell_type": "code",
      "metadata": {
        "trusted": true,
        "id": "yGjKCTQDJprP",
        "colab_type": "code",
        "colab": {}
      },
      "source": [
        "from torch.optim import lr_scheduler\n",
        "criterion = nn.CrossEntropyLoss()\n",
        "optimizer = Ranger(resnet.parameters(), lr=0.001,weight_decay=0.001)\n",
        "scheduler = ReduceLROnPlateau(optimizer,factor=0.33, mode=\"min\", patience=3)"
      ],
      "execution_count": null,
      "outputs": []
    },
    {
      "cell_type": "code",
      "metadata": {
        "id": "S4sM9OtavkaB",
        "colab_type": "code",
        "colab": {}
      },
      "source": [
        "from tqdm import tqdm"
      ],
      "execution_count": null,
      "outputs": []
    },
    {
      "cell_type": "code",
      "metadata": {
        "trusted": true,
        "id": "OtOMcJkDJprQ",
        "colab_type": "code",
        "colab": {}
      },
      "source": [
        "def train_model(dataloaders,model, criterion, optimizer, scheduler, num_epochs):\n",
        "    since = time.time()\n",
        "    dataset_sizes = {'train': len(dataloaders['train'].dataset), \n",
        "                     'val': len(dataloaders['val'].dataset)}\n",
        "    best_model_wts = copy.deepcopy(model.state_dict())\n",
        "    best_acc = 0.0\n",
        "    number_of_iter = 0\n",
        "    acc_train = []\n",
        "    acc_val = []\n",
        "    loss_train = []\n",
        "    loss_val = []\n",
        "    \n",
        "    for epoch in range(num_epochs):\n",
        "        print('Epoch {}/{}'.format(epoch, num_epochs - 1))\n",
        "\n",
        "        for phase in ['train', 'val']:\n",
        "            if phase == 'train':\n",
        "                model.train()  \n",
        "            else:\n",
        "                model.eval()   \n",
        "\n",
        "            current_loss = 0.0\n",
        "            current_corrects = 0\n",
        "            tk = tqdm(dataloaders[phase], total=len(dataloaders[phase]), position=0, leave=True)\n",
        "            for i,(inputs, labels) in enumerate(tk):\n",
        "                inputs = inputs.to(device)\n",
        "                labels = labels.to(device)\n",
        "                optimizer.zero_grad()\n",
        "                with torch.set_grad_enabled(phase == 'train'):\n",
        "                    outputs = model(inputs)\n",
        "                    _, preds = torch.max(outputs, 1)\n",
        "                    loss = criterion(outputs, labels)\n",
        "\n",
        "                    if phase == 'train':\n",
        "                        loss.backward()\n",
        "                        optimizer.step()\n",
        "\n",
        "                current_loss += loss.item() * inputs.size(0)\n",
        "                current_corrects += torch.sum(preds == labels.data)\n",
        "\n",
        "            epoch_loss = current_loss / dataset_sizes[phase]\n",
        "            epoch_acc = current_corrects.double() / dataset_sizes[phase]\n",
        "            if phase==\"train\":\n",
        "                acc_train.append(epoch_acc)\n",
        "                loss_train.append(epoch_loss)\n",
        "            else:\n",
        "                acc_val.append(epoch_acc)\n",
        "                loss_val.append(epoch_loss)\n",
        "            \n",
        "            print('{} Loss: {:.4f} Acc: {:.4f}'.format(\n",
        "                phase, epoch_loss, epoch_acc))\n",
        "\n",
        "            if phase == 'val' and epoch_acc > best_acc:\n",
        "                best_acc = epoch_acc\n",
        "                best_model_wts = copy.deepcopy(model.state_dict())\n",
        "\n",
        "        print()\n",
        "\n",
        "    time_since = time.time() - since\n",
        "    print('Training complete in {:.0f}m {:.0f}s'.format(\n",
        "        time_since // 60, time_since % 60))\n",
        "    print('Best val Acc: {:4f}'.format(best_acc))\n",
        "    model.load_state_dict(best_model_wts)\n",
        "    \n",
        "    \n",
        "    return model,acc_val,acc_train,loss_train,loss_val"
      ],
      "execution_count": null,
      "outputs": []
    },
    {
      "cell_type": "code",
      "metadata": {
        "trusted": true,
        "id": "sLs9gfPoJprS",
        "colab_type": "code",
        "colab": {}
      },
      "source": [
        "resnet = resnet.to(device)\n",
        "dataloaders = {\"train\":trainloader,\"val\":valloader}\n",
        "num_epochs=25\n",
        "start_time = time.time()\n",
        "model,acc_val,acc_train,loss_train,loss_val = train_model(dataloaders, resnet, criterion, optimizer, scheduler, num_epochs=num_epochs)"
      ],
      "execution_count": null,
      "outputs": []
    },
    {
      "cell_type": "code",
      "metadata": {
        "trusted": true,
        "id": "-l-KSa4HJprU",
        "colab_type": "code",
        "colab": {}
      },
      "source": [
        "epoch = []\n",
        "for x in range(12):\n",
        "    epoch.append(x)\n",
        "plt.plot(epoch,loss_train,label = 'TrainLoss')\n",
        "plt.plot(epoch,loss_val,label = 'ValLoss')\n",
        "plt.legend()\n",
        "plt.show()"
      ],
      "execution_count": null,
      "outputs": []
    },
    {
      "cell_type": "code",
      "metadata": {
        "trusted": true,
        "id": "lgJuhCgJJprb",
        "colab_type": "code",
        "colab": {}
      },
      "source": [
        "torch.save({'model_state_dict':model.state_dict(),'optimizer_state_dict':optimizer.state_dict(),'scheduler.state_dict':scheduler.state_dict()},f'res152.pth')"
      ],
      "execution_count": null,
      "outputs": []
    },
    {
      "cell_type": "code",
      "metadata": {
        "trusted": true,
        "id": "DF6U7uYeJprg",
        "colab_type": "code",
        "colab": {}
      },
      "source": [
        "output = pd.DataFrame(index=sub.index,columns = sub.keys())\n",
        "output['ID'] = sub['ID']"
      ],
      "execution_count": null,
      "outputs": []
    },
    {
      "cell_type": "code",
      "metadata": {
        "id": "Ny4sGKCPaPgb",
        "colab_type": "code",
        "colab": {}
      },
      "source": [
        "sub=sub[[\"ID\",\"Class\"]]\n",
        "sub.head()"
      ],
      "execution_count": null,
      "outputs": []
    },
    {
      "cell_type": "code",
      "metadata": {
        "id": "bvmuwn_T7Jkh",
        "colab_type": "code",
        "colab": {}
      },
      "source": [
        "df5"
      ],
      "execution_count": null,
      "outputs": []
    },
    {
      "cell_type": "code",
      "metadata": {
        "id": "7EnmCHOK7NcN",
        "colab_type": "code",
        "colab": {}
      },
      "source": [
        "sub=df5[['ID','Class']]"
      ],
      "execution_count": null,
      "outputs": []
    },
    {
      "cell_type": "code",
      "metadata": {
        "trusted": true,
        "id": "oNZAWLLRJprh",
        "colab_type": "code",
        "colab": {}
      },
      "source": [
        "testdata = Agedetection(sub,root=\"Test\",phase='val')\n",
        "testloader = DataLoader(testdata,batch_size=16,num_workers=2)"
      ],
      "execution_count": null,
      "outputs": []
    },
    {
      "cell_type": "code",
      "metadata": {
        "trusted": true,
        "id": "z_zjRSp_Jpri",
        "colab_type": "code",
        "colab": {}
      },
      "source": [
        "def test_submission(model):\n",
        "    since = time.time()\n",
        "    sub_output = []\n",
        "    model.train(False)\n",
        "    for data in testloader:\n",
        "        inputs,labels = data\n",
        "        inputs = inputs.to(device)\n",
        "        outputs = model(inputs)\n",
        "        sub_output.append(outputs.data.cpu().numpy())\n",
        "    sub_output = np.concatenate(sub_output)\n",
        "    for idx,row in enumerate(sub_output.astype('float')):\n",
        "        sub_output[idx] = np.exp(row)/np.sum(np.exp(row))\n",
        "    output.loc[:,1:] = sub_output\n",
        "    print()\n",
        "    time_elapsed = time.time() - since\n",
        "    print('Run complete in {:.0f}m {:.0f}s'.format(\n",
        "        time_elapsed // 60, time_elapsed % 60))\n",
        "        "
      ],
      "execution_count": null,
      "outputs": []
    },
    {
      "cell_type": "code",
      "metadata": {
        "trusted": true,
        "id": "84Nr5Q06Jprl",
        "colab_type": "code",
        "colab": {}
      },
      "source": [
        "#model = model.to(device)\n",
        "test_submission(resnet)"
      ],
      "execution_count": null,
      "outputs": []
    },
    {
      "cell_type": "code",
      "metadata": {
        "trusted": true,
        "id": "qTDaLAizJprw",
        "colab_type": "code",
        "colab": {}
      },
      "source": [
        "output.head()"
      ],
      "execution_count": null,
      "outputs": []
    },
    {
      "cell_type": "code",
      "metadata": {
        "trusted": true,
        "id": "9-Y9GsejJpsJ",
        "colab_type": "code",
        "colab": {}
      },
      "source": [
        "output.to_csv(\"res152.csv\", index=False)"
      ],
      "execution_count": null,
      "outputs": []
    }
  ]
}